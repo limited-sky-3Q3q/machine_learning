{
 "cells": [
  {
   "cell_type": "markdown",
   "source": [
    "# 实验二"
   ],
   "metadata": {}
  },
  {
   "cell_type": "markdown",
   "source": [
    "## 逻辑回归与批量随机梯度下降"
   ],
   "metadata": {}
  },
  {
   "cell_type": "markdown",
   "source": [
    "### 处理数据"
   ],
   "metadata": {}
  },
  {
   "cell_type": "code",
   "execution_count": 1,
   "source": [
    "import sklearn,numpy,jupyter,matplotlib\n",
    "import os\n",
    "import sklearn.datasets\n",
    "import numpy as np\n",
    "import random"
   ],
   "outputs": [],
   "metadata": {}
  },
  {
   "cell_type": "code",
   "execution_count": 2,
   "source": [
    "X_train, Y_train = sklearn.datasets.load_svmlight_file('a9a.txt')\n",
    "X_test, Y_test = sklearn.datasets.load_svmlight_file('a9a.t.txt', n_features=123)\n",
    "\n",
    "X_train.shape, Y_train.shape, X_test.shape, Y_test.shape"
   ],
   "outputs": [
    {
     "output_type": "execute_result",
     "data": {
      "text/plain": [
       "((32561, 123), (32561,), (16281, 123), (16281,))"
      ]
     },
     "metadata": {},
     "execution_count": 2
    }
   ],
   "metadata": {}
  },
  {
   "cell_type": "code",
   "execution_count": 3,
   "source": [
    "X_train = X_train.toarray()\n",
    "X_test = X_test.toarray()\n",
    "Y_train = Y_train.reshape(len(Y_train),1)\n",
    "Y_test = Y_test.reshape(len(Y_test),1)\n",
    "X_train = np.concatenate((np.ones((X_train.shape[0],1)), X_train), axis = 1)\n",
    "X_test = np.concatenate((np.ones((X_test.shape[0], 1)), X_test), axis = 1)\n",
    "X_train.shape, Y_train.shape, X_test.shape, Y_test.shape"
   ],
   "outputs": [
    {
     "output_type": "execute_result",
     "data": {
      "text/plain": [
       "((32561, 124), (32561, 1), (16281, 124), (16281, 1))"
      ]
     },
     "metadata": {},
     "execution_count": 3
    }
   ],
   "metadata": {}
  },
  {
   "cell_type": "code",
   "execution_count": 4,
   "source": [
    "X_train, Y_train, X_test, Y_test"
   ],
   "outputs": [
    {
     "output_type": "execute_result",
     "data": {
      "text/plain": [
       "(array([[1., 0., 0., ..., 0., 0., 0.],\n",
       "        [1., 0., 0., ..., 0., 0., 0.],\n",
       "        [1., 0., 0., ..., 0., 0., 0.],\n",
       "        ...,\n",
       "        [1., 0., 0., ..., 0., 0., 0.],\n",
       "        [1., 1., 0., ..., 0., 0., 0.],\n",
       "        [1., 0., 0., ..., 0., 0., 0.]]),\n",
       " array([[-1.],\n",
       "        [-1.],\n",
       "        [-1.],\n",
       "        ...,\n",
       "        [-1.],\n",
       "        [-1.],\n",
       "        [ 1.]]),\n",
       " array([[1., 1., 0., ..., 0., 0., 0.],\n",
       "        [1., 0., 0., ..., 0., 0., 0.],\n",
       "        [1., 0., 1., ..., 0., 0., 0.],\n",
       "        ...,\n",
       "        [1., 0., 0., ..., 0., 0., 0.],\n",
       "        [1., 0., 0., ..., 0., 0., 0.],\n",
       "        [1., 0., 0., ..., 0., 0., 0.]]),\n",
       " array([[-1.],\n",
       "        [-1.],\n",
       "        [ 1.],\n",
       "        ...,\n",
       "        [-1.],\n",
       "        [-1.],\n",
       "        [ 1.]]))"
      ]
     },
     "metadata": {},
     "execution_count": 4
    }
   ],
   "metadata": {}
  },
  {
   "cell_type": "markdown",
   "source": [
    "### 构建函数"
   ],
   "metadata": {}
  },
  {
   "cell_type": "code",
   "execution_count": 5,
   "source": [
    "def compute_MSELoss(X, Y, W):\n",
    "    return np.power((X.dot(W) - Y), 2).mean()/2"
   ],
   "outputs": [],
   "metadata": {}
  },
  {
   "cell_type": "code",
   "execution_count": 6,
   "source": [
    "def compute_gardient(X, Y, W):\n",
    "    return -X.T.dot(Y - X.dot(W))"
   ],
   "outputs": [],
   "metadata": {}
  },
  {
   "cell_type": "code",
   "execution_count": 82,
   "source": [
    "def compute_accuracy(X, Y, W, threshold):\n",
    "    result = X.dot(W)\n",
    "    TPandFN = 0\n",
    "    for (i, y) in zip(result, Y):\n",
    "        if((i - threshold)*y > 0):\n",
    "            TPandFN += 1\n",
    "            # print(i, threshold, y)\n",
    "    return TPandFN/(X.shape[0])"
   ],
   "outputs": [],
   "metadata": {}
  },
  {
   "cell_type": "code",
   "execution_count": 129,
   "source": [
    "def thirdnarySearch(arr, l, r, X, Y, W):\n",
    "    r -= 1\n",
    "    while l+1< r:\n",
    "        mid = (l + r) // 2\n",
    "        midr = (mid + r) // 2\n",
    "        \n",
    "        accuracyMid = compute_accuracy(X, Y, W, arr[mid])\n",
    "        accuracyR = compute_accuracy(X, Y, W, arr[r])\n",
    "\n",
    "        # print(l, mid, r, accuracyL, accuracyMid, accuracyR)\n",
    "        # if(accuracyL==accuracyR and accuracyL==accuracyMid):\n",
    "        #     break\n",
    "\n",
    "        if accuracyR >= accuracyMid:\n",
    "            l = mid\n",
    "        else:\n",
    "            r = midr\n",
    "        print(l, mid, midr, r, accuracyMid)\n",
    "    return arr[l]"
   ],
   "outputs": [],
   "metadata": {}
  },
  {
   "cell_type": "code",
   "execution_count": 51,
   "source": [
    "def train(X, Y, batch_size=1, epoch=30, learning_rate=0.05, optimizer='SGD'):\n",
    "    random.seed(8848)\n",
    "    batch = random.sample(list(np.c_[X, Y]), batch_size)\n",
    "    batch = np.array(batch)\n",
    "    X_batch = batch[:, :-1]\n",
    "    Y_batch = batch[:, -1:]\n",
    "    W = np.random.rand(X_batch.shape[1], 1)\n",
    "    # print(W.shape)\n",
    "    #进行优化\n",
    "    if optimizer == 'SGD':\n",
    "        for i in range(int(epoch)):\n",
    "            W -= learning_rate*compute_gardient(X_batch, Y_batch, W)\n",
    "    #计算最优阈值\n",
    "    threshold = thirdnarySearch(sorted(X.dot(W)), 0, len(sorted(X.dot(W))), X, Y, W)\n",
    "    \n",
    "    return W, threshold"
   ],
   "outputs": [],
   "metadata": {}
  },
  {
   "cell_type": "markdown",
   "source": [
    "### 基准线和拟合"
   ],
   "metadata": {}
  },
  {
   "cell_type": "code",
   "execution_count": 9,
   "source": [
    "# baseline\n",
    "W = np.random.rand(X_train.shape[1], 1)\n",
    "compute_MSELoss(X_train, Y_train, W), compute_MSELoss(X_test, Y_test, W)"
   ],
   "outputs": [
    {
     "output_type": "execute_result",
     "data": {
      "text/plain": [
       "(32.905513220143426, 32.90046445472171)"
      ]
     },
     "metadata": {},
     "execution_count": 9
    }
   ],
   "metadata": {}
  },
  {
   "cell_type": "markdown",
   "source": [
    "SGD算法"
   ],
   "metadata": {}
  },
  {
   "cell_type": "code",
   "execution_count": 130,
   "source": [
    "batch_size=4\n",
    "# epoch=300\n",
    "learning_rate=0.05\n",
    "optimizer='SGD'\n",
    "threshold = []\n",
    "W = []\n",
    "for i in range(4):\n",
    "    tempA, tempB = train(X_train, Y_train, batch_size=1, epoch=np.power(10, i), learning_rate=0.05, optimizer='SGD')\n",
    "    W.append(tempA)\n",
    "    threshold.append(tempB)\n",
    "    print(i)"
   ],
   "outputs": [
    {
     "output_type": "stream",
     "name": "stdout",
     "text": [
      "16280 16280 24420 32560 0.640551580111176\n",
      "24420 24420 28490 32560 0.7452473818371672\n",
      "24420 28490 30525 30525 0.7713215196093486\n",
      "27472 27472 28998 30525 0.7673904364116582\n",
      "27472 28998 29761 29761 0.7742698320076165\n",
      "28616 28616 29188 29761 0.7718743281840238\n",
      "28616 29188 29474 29474 0.7741162740702067\n",
      "28616 29045 29259 29259 0.7743312551825804\n",
      "28616 28937 29098 29098 0.7739012929578329\n",
      "28857 28857 28977 29098 0.7736248886704954\n",
      "28857 28977 29037 29037 0.7743005435950985\n",
      "28947 28947 28992 29037 0.7740855624827248\n",
      "28947 28992 29014 29014 0.7742698320076165\n",
      "28947 28980 28997 28997 0.7743312551825804\n",
      "28972 28972 28984 28997 0.7741776972451706\n",
      "28984 28984 28990 28997 0.7742391204201345\n",
      "28990 28990 28993 28997 0.7741776972451706\n",
      "28990 28993 28995 28995 0.7742698320076165\n",
      "28992 28992 28993 28995 0.7742698320076165\n",
      "28993 28993 28994 28995 0.7742698320076165\n",
      "28993 28994 28994 28994 0.7743005435950985\n",
      "0\n",
      "16280 16280 24420 32560 0.5558490218359387\n",
      "24420 24420 28490 32560 0.6638309634224993\n",
      "28490 28490 30525 32560 0.7125395411688831\n",
      "30525 30525 31542 32560 0.7373852154417861\n",
      "31542 31542 32051 32560 0.7489020607475201\n",
      "32051 32051 32305 32560 0.7536623568072234\n",
      "32305 32305 32432 32560 0.7561807069807438\n",
      "32432 32432 32496 32560 0.7571634777801665\n",
      "32496 32496 32528 32560 0.7580541138171432\n",
      "32528 32528 32544 32560 0.7586069223918185\n",
      "32544 32544 32552 32560 0.7587911919167102\n",
      "32552 32552 32556 32560 0.7589754614416019\n",
      "32556 32556 32558 32560 0.7590983077915298\n",
      "32558 32558 32559 32560 0.7591597309664937\n",
      "32559 32559 32559 32560 0.7591597309664937\n",
      "1\n",
      "16280 16280 24420 32560 0.5840729707318572\n",
      "24420 24420 28490 32560 0.6766376954024753\n",
      "28490 28490 30525 32560 0.7191118208900218\n",
      "30525 30525 31542 32560 0.7364024446423636\n",
      "31542 31542 32051 32560 0.7469365191486748\n",
      "32051 32051 32305 32560 0.7529867018826203\n",
      "32305 32305 32432 32560 0.7550750898313934\n",
      "32432 32432 32496 32560 0.7570099198427567\n",
      "32496 32496 32528 32560 0.758176960167071\n",
      "32528 32528 32544 32560 0.7586683455667823\n",
      "32544 32544 32552 32560 0.7587911919167102\n",
      "32552 32552 32556 32560 0.7589754614416019\n",
      "32556 32556 32558 32560 0.7590368846165658\n",
      "32558 32558 32559 32560 0.7590983077915298\n",
      "32559 32559 32559 32560 0.7591290193790117\n",
      "2\n",
      "16280 16280 24420 32560 0.5603329136083044\n",
      "24420 24420 28490 32560 0.6679463161450815\n",
      "28490 28490 30525 32560 0.7163477780166457\n",
      "30525 30525 31542 32560 0.7397807192653788\n",
      "31542 31542 32051 32560 0.7501919474217622\n",
      "32051 32051 32305 32560 0.755320782531249\n",
      "32305 32305 32432 32560 0.7579619790546973\n",
      "32432 32432 32496 32560 0.7589754614416019\n",
      "32496 32496 32528 32560 0.7591290193790117\n",
      "32496 32528 32544 32544 0.7594054236663493\n",
      "32520 32520 32532 32544 0.7591597309664937\n",
      "32520 32532 32538 32538 0.7593747120788673\n",
      "32520 32529 32533 32533 0.7594361352538312\n",
      "32526 32526 32529 32533 0.7593440004913854\n",
      "32526 32529 32531 32531 0.7594361352538312\n",
      "32528 32528 32529 32531 0.7594054236663493\n",
      "32528 32529 32530 32530 0.7594361352538312\n",
      "32529 32529 32529 32530 0.7594361352538312\n",
      "3\n"
     ]
    }
   ],
   "metadata": {}
  },
  {
   "cell_type": "code",
   "execution_count": 131,
   "source": [
    "len(W), W[0].shape, threshold"
   ],
   "outputs": [
    {
     "output_type": "execute_result",
     "data": {
      "text/plain": [
       "(4,\n",
       " (124, 1),\n",
       " [array([6.51184824]),\n",
       "  array([7.41085678]),\n",
       "  array([7.70052198]),\n",
       "  array([6.24880457])])"
      ]
     },
     "metadata": {},
     "execution_count": 131
    }
   ],
   "metadata": {}
  },
  {
   "cell_type": "code",
   "execution_count": 136,
   "source": [
    "compute_accuracy(X_train, Y_train, W[0], threshold[0][0]), threshold"
   ],
   "outputs": [
    {
     "output_type": "execute_result",
     "data": {
      "text/plain": [
       "(0.7742698320076165,\n",
       " [array([6.51184824]),\n",
       "  array([7.41085678]),\n",
       "  array([7.70052198]),\n",
       "  array([6.24880457])])"
      ]
     },
     "metadata": {},
     "execution_count": 136
    }
   ],
   "metadata": {}
  },
  {
   "cell_type": "code",
   "execution_count": null,
   "source": [],
   "outputs": [],
   "metadata": {}
  }
 ],
 "metadata": {
  "kernelspec": {
   "name": "python3",
   "display_name": "Python 3.6.9 64-bit"
  },
  "language_info": {
   "codemirror_mode": {
    "name": "ipython",
    "version": 3
   },
   "file_extension": ".py",
   "mimetype": "text/x-python",
   "name": "python",
   "nbconvert_exporter": "python",
   "pygments_lexer": "ipython3",
   "version": "3.6.9"
  },
  "interpreter": {
   "hash": "31f2aee4e71d21fbe5cf8b01ff0e069b9275f58929596ceb00d14d90e3e16cd6"
  }
 },
 "nbformat": 4,
 "nbformat_minor": 2
}