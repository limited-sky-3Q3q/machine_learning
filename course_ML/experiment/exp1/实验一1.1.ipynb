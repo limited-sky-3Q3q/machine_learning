{
 "cells": [
  {
   "cell_type": "markdown",
   "source": [
    "# 实验一"
   ],
   "metadata": {}
  },
  {
   "cell_type": "markdown",
   "source": [
    "## 线性回归的闭式解"
   ],
   "metadata": {}
  },
  {
   "cell_type": "code",
   "execution_count": 1,
   "source": [
    "import sklearn,numpy,jupyter,matplotlib\n",
    "import os\n",
    "import sklearn.datasets\n",
    "import numpy as np\n",
    "import random\n",
    "import sklearn.model_selection"
   ],
   "outputs": [],
   "metadata": {}
  },
  {
   "cell_type": "code",
   "execution_count": 2,
   "source": [
    "X, Y = sklearn.datasets.load_svmlight_file('housing_scale.txt')"
   ],
   "outputs": [],
   "metadata": {}
  },
  {
   "cell_type": "code",
   "execution_count": 3,
   "source": [
    "X.shape, Y.shape"
   ],
   "outputs": [
    {
     "output_type": "execute_result",
     "data": {
      "text/plain": [
       "((506, 13), (506,))"
      ]
     },
     "metadata": {},
     "execution_count": 3
    }
   ],
   "metadata": {}
  },
  {
   "cell_type": "code",
   "execution_count": 4,
   "source": [
    "X_train, X_test, Y_train, Y_test = sklearn.model_selection.train_test_split(X, Y, random_state=8848, train_size = 0.8, test_size=0.2)"
   ],
   "outputs": [],
   "metadata": {}
  },
  {
   "cell_type": "code",
   "execution_count": 5,
   "source": [
    "X_train.shape, X_test.shape, Y_train.shape, Y_test.shape "
   ],
   "outputs": [
    {
     "output_type": "execute_result",
     "data": {
      "text/plain": [
       "((404, 13), (102, 13), (404,), (102,))"
      ]
     },
     "metadata": {},
     "execution_count": 5
    }
   ],
   "metadata": {}
  },
  {
   "cell_type": "code",
   "execution_count": 6,
   "source": [
    "X_train = X_train.toarray()\n",
    "X_test = X_test.toarray()\n",
    "Y_train = Y_train.reshape(len(Y_train), 1)\n",
    "Y_test = Y_test.reshape(len(Y_test), 1)\n",
    "X_train = np.concatenate((np.ones((X_train.shape[0],1)), X_train), axis = 1)\n",
    "X_test = np.concatenate((np.ones((X_test.shape[0], 1)), X_test), axis = 1)"
   ],
   "outputs": [],
   "metadata": {}
  },
  {
   "cell_type": "code",
   "execution_count": 7,
   "source": [
    "X_train.shape, X_test.shape, Y_train.shape, Y_test.shape "
   ],
   "outputs": [
    {
     "output_type": "execute_result",
     "data": {
      "text/plain": [
       "((404, 14), (102, 14), (404, 1), (102, 1))"
      ]
     },
     "metadata": {},
     "execution_count": 7
    }
   ],
   "metadata": {}
  },
  {
   "cell_type": "code",
   "execution_count": 8,
   "source": [
    "def compute_MSELoss(X, Y, W):\n",
    "    return np.power((X.dot(W) - Y), 2).mean()/2"
   ],
   "outputs": [],
   "metadata": {}
  },
  {
   "cell_type": "code",
   "execution_count": 9,
   "source": [
    "W = np.ones((13,1))\n",
    "compute_MSELoss(X, Y, W)"
   ],
   "outputs": [
    {
     "output_type": "execute_result",
     "data": {
      "text/plain": [
       "370.1248220723856"
      ]
     },
     "metadata": {},
     "execution_count": 9
    }
   ],
   "metadata": {}
  },
  {
   "cell_type": "code",
   "execution_count": 10,
   "source": [
    "def compute_close_form_solution(X, Y):\n",
    "#     return np.linalg.inv(X.T*X)*X.T*Y这个不行\n",
    "    return (np.linalg.inv(X.T.dot(X))).dot(X.T).dot(Y)"
   ],
   "outputs": [],
   "metadata": {}
  },
  {
   "cell_type": "code",
   "execution_count": 11,
   "source": [
    "W = compute_close_form_solution(X_train, Y_train)\n",
    "W"
   ],
   "outputs": [
    {
     "output_type": "execute_result",
     "data": {
      "text/plain": [
       "array([[10.67499632],\n",
       "       [-5.10670368],\n",
       "       [ 1.76100271],\n",
       "       [ 0.33791548],\n",
       "       [ 0.538648  ],\n",
       "       [-4.05763978],\n",
       "       [ 8.30301438],\n",
       "       [-0.07887306],\n",
       "       [-7.62391246],\n",
       "       [ 3.84139325],\n",
       "       [-3.46582958],\n",
       "       [-4.86793616],\n",
       "       [ 1.90976706],\n",
       "       [-9.52177883]])"
      ]
     },
     "metadata": {},
     "execution_count": 11
    }
   ],
   "metadata": {}
  },
  {
   "cell_type": "code",
   "execution_count": 12,
   "source": [
    "compute_MSELoss(X_train, Y_train, W), compute_MSELoss(X_test, Y_test, W)"
   ],
   "outputs": [
    {
     "output_type": "execute_result",
     "data": {
      "text/plain": [
       "(10.951505104112705, 12.012691886641633)"
      ]
     },
     "metadata": {},
     "execution_count": 12
    }
   ],
   "metadata": {}
  },
  {
   "cell_type": "markdown",
   "source": [
    "## 线性回归和随机梯度下降"
   ],
   "metadata": {}
  },
  {
   "cell_type": "code",
   "execution_count": 13,
   "source": [
    "def compute_gardient(X, Y, W):\n",
    "    return -X.T.dot(Y - X.dot(W))"
   ],
   "outputs": [],
   "metadata": {}
  },
  {
   "cell_type": "code",
   "execution_count": 14,
   "source": [
    "np.zeros((14, 1)).shape, np.random.rand(14,1).shape"
   ],
   "outputs": [
    {
     "output_type": "execute_result",
     "data": {
      "text/plain": [
       "((14, 1), (14, 1))"
      ]
     },
     "metadata": {},
     "execution_count": 14
    }
   ],
   "metadata": {}
  },
  {
   "cell_type": "code",
   "execution_count": 20,
   "source": [
    "import random\n",
    "random.seed(8848)\n",
    "np.random.seed(8848)\n",
    "W = np.random.rand(14, 1)\n",
    "n = 0.000005\n",
    "W_temp = W\n",
    "# while compute_MSELoss(X_train, Y_train, W_temp) <= compute_MSELoss(X_train, Y_train, W):\n",
    "for i in range(10000):#1e6和1e5的结果完全相同\n",
    "    W = W_temp\n",
    "    W_temp -= n*compute_gardient(X_train, Y_train, W)\n",
    "W"
   ],
   "outputs": [
    {
     "output_type": "execute_result",
     "data": {
      "text/plain": [
       "array([[ 9.00318992],\n",
       "       [-6.30226877],\n",
       "       [ 0.13330139],\n",
       "       [-1.46634298],\n",
       "       [ 0.48041391],\n",
       "       [-2.94962409],\n",
       "       [ 7.82068467],\n",
       "       [ 0.21303163],\n",
       "       [-5.55627908],\n",
       "       [ 2.72387496],\n",
       "       [-1.16554329],\n",
       "       [-5.13818909],\n",
       "       [ 2.31758078],\n",
       "       [-9.34211833]])"
      ]
     },
     "metadata": {},
     "execution_count": 20
    }
   ],
   "metadata": {}
  },
  {
   "cell_type": "code",
   "execution_count": 21,
   "source": [
    "compute_MSELoss(X_train, Y_train, W_temp) ,compute_MSELoss(X_train, Y_train, W)"
   ],
   "outputs": [
    {
     "output_type": "execute_result",
     "data": {
      "text/plain": [
       "(11.3032478437127, 11.3032478437127)"
      ]
     },
     "metadata": {},
     "execution_count": 21
    }
   ],
   "metadata": {}
  }
 ],
 "metadata": {
  "kernelspec": {
   "name": "python3",
   "display_name": "Python 3.6.9 64-bit"
  },
  "language_info": {
   "codemirror_mode": {
    "name": "ipython",
    "version": 3
   },
   "file_extension": ".py",
   "mimetype": "text/x-python",
   "name": "python",
   "nbconvert_exporter": "python",
   "pygments_lexer": "ipython3",
   "version": "3.6.9"
  },
  "interpreter": {
   "hash": "31f2aee4e71d21fbe5cf8b01ff0e069b9275f58929596ceb00d14d90e3e16cd6"
  }
 },
 "nbformat": 4,
 "nbformat_minor": 2
}